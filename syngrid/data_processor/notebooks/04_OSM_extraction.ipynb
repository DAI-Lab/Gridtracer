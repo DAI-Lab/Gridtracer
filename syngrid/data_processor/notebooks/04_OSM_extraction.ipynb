{
 "cells": [
  {
   "cell_type": "code",
   "execution_count": null,
   "metadata": {},
   "outputs": [],
   "source": [
    "import osmnx as ox\n",
    "import geopandas as gpd\n",
    "\n",
    "import osmnx as ox\n",
    "import geopandas as gpd\n",
    "from shapely.geometry import Polygon\n",
    "\n",
    "# Example polygon (replace with your own)\n",
    "polygon = Polygon([\n",
    "    (-71.0589, 42.3601),\n",
    "    (-71.0570, 42.3601),\n",
    "    (-71.0570, 42.3615),\n",
    "    (-71.0589, 42.3615),\n",
    "    (-71.0589, 42.3601),\n",
    "])\n",
    "\n",
    "# Set default options\n",
    "ox.settings.use_cache = True\n",
    "ox.settings.log_console = True\n",
    "\n",
    "# Load polygon into GeoDataFrame\n",
    "gdf_poly = gpd.GeoDataFrame(index=[0], geometry=[polygon], crs=\"EPSG:4326\")\n",
    "\n",
    "### 1. Extract Buildings\n",
    "buildings = ox.features_from_polygon(polygon, tags={\"building\": True})\n",
    "print(f\"✅ Buildings found: {len(buildings)}\")\n",
    "\n",
    "\n",
    "### 2. Extract POIs (like amenities, shops, etc.)\n",
    "pois = ox.features_from_polygon(polygon, tags={\n",
    "    \"amenity\": True,\n",
    "    \"shop\": True,\n",
    "    \"tourism\": True,\n",
    "    \"leisure\": True,\n",
    "    \"office\": True\n",
    "})\n",
    "print(f\"✅ POIs found: {len(pois)}\")\n",
    "\n",
    "\n",
    "\n",
    "### 3. Extract Transformers or Substations\n",
    "try:\n",
    "    transformers = ox.features_from_polygon(polygon, tags={\"power\": [\"transformer\", \"substation\"]})\n",
    "    print(f\"✅ Power features found: {len(transformers)}\")\n",
    "except:\n",
    "    print(\"❌ No power features found\")\n",
    "\n",
    "# Save to shapefiles\n",
    "# buildings.to_file(\"buildings.shp\")\n",
    "# pois.to_file(\"pois.shp\")\n",
    "# transformers.to_file(\"power.shp\")\n",
    "\n",
    "print(\"🗂️ All features saved as .shp files.\")"
   ]
  },
  {
   "cell_type": "code",
   "execution_count": null,
   "metadata": {},
   "outputs": [],
   "source": [
    "print(buildings.columns)\n",
    "print(buildings.head(15))"
   ]
  },
  {
   "cell_type": "code",
   "execution_count": null,
   "metadata": {},
   "outputs": [],
   "source": [
    "print(pois.head(15))"
   ]
  },
  {
   "cell_type": "code",
   "execution_count": null,
   "metadata": {},
   "outputs": [],
   "source": []
  }
 ],
 "metadata": {
  "kernelspec": {
   "display_name": ".venv",
   "language": "python",
   "name": "python3"
  },
  "language_info": {
   "codemirror_mode": {
    "name": "ipython",
    "version": 3
   },
   "file_extension": ".py",
   "mimetype": "text/x-python",
   "name": "python",
   "nbconvert_exporter": "python",
   "pygments_lexer": "ipython3",
   "version": "3.10.14"
  }
 },
 "nbformat": 4,
 "nbformat_minor": 2
}
