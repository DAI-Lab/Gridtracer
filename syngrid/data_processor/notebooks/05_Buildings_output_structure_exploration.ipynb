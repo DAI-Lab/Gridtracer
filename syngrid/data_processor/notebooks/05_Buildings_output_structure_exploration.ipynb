{
 "cells": [
  {
   "cell_type": "code",
   "execution_count": 1,
   "metadata": {},
   "outputs": [],
   "source": [
    "import geopandas as gpd\n",
    "from pathlib import Path"
   ]
  },
  {
   "cell_type": "code",
   "execution_count": 2,
   "metadata": {},
   "outputs": [],
   "source": [
    "def inspect_shapefile_structure(folder_path: str):\n",
    "    \"\"\"\n",
    "    Reads the first .shp file in the folder and prints its columns and head.\n",
    "\n",
    "    Parameters:\n",
    "    -----------\n",
    "    folder_path : str\n",
    "        Path to the folder containing the shapefile components (.shp, .shx, .dbf, etc.)\n",
    "    \"\"\"\n",
    "    folder = Path(folder_path)\n",
    "    shp_files = list(folder.glob(\"*.shp\"))\n",
    "\n",
    "    if not shp_files:\n",
    "        print(\"No shapefile found in the specified folder.\")\n",
    "        return\n",
    "\n",
    "    shp_path = shp_files[0]\n",
    "    print(f\"Reading shapefile: {shp_path.name}\")\n",
    "    \n",
    "    try:\n",
    "        gdf = gpd.read_file(shp_path)\n",
    "        print(\"\\nColumns:\")\n",
    "        print(gdf.columns.tolist())\n",
    "        print(\"\\nFirst 5 rows:\")\n",
    "        print(gdf.head())\n",
    "    except Exception as e:\n",
    "        print(f\"Error reading shapefile: {e}\")"
   ]
  },
  {
   "cell_type": "code",
   "execution_count": null,
   "metadata": {},
   "outputs": [],
   "source": [
    "input_path = \"/Users/magic-rabbit/Downloads/Res_9162000\"\n",
    "inspect_shapefile_structure(input_path)"
   ]
  },
  {
   "cell_type": "code",
   "execution_count": null,
   "metadata": {},
   "outputs": [],
   "source": [
    "# For the other non residential: \n",
    "oth_input_path = \"/Users/magic-rabbit/Downloads/Oth_9162000\"\n",
    "inspect_shapefile_structure(oth_input_path)\n"
   ]
  },
  {
   "cell_type": "code",
   "execution_count": null,
   "metadata": {},
   "outputs": [],
   "source": []
  }
 ],
 "metadata": {
  "kernelspec": {
   "display_name": ".venv",
   "language": "python",
   "name": "python3"
  },
  "language_info": {
   "codemirror_mode": {
    "name": "ipython",
    "version": 3
   },
   "file_extension": ".py",
   "mimetype": "text/x-python",
   "name": "python",
   "nbconvert_exporter": "python",
   "pygments_lexer": "ipython3",
   "version": "3.10.14"
  }
 },
 "nbformat": 4,
 "nbformat_minor": 2
}
